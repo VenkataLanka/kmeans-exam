{
 "cells": [
  {
   "cell_type": "code",
   "execution_count": 1,
   "metadata": {},
   "outputs": [],
   "source": [
    "# some parts of code is based on tutorial on Kmeans clustering discussed in the class......#\n",
    "# Importing Libraries\n",
    "from pyspark import SparkContext , SparkConf\n",
    "from pyspark.mllib.clustering import KMeans,KMeansModel\n",
    "from numpy import array\n",
    "from math import sqrt\n",
    "from pyspark.sql import Row\n",
    "from pyspark.sql import SQLContext\n",
    "conf=SparkConf().setMaster(\"local\").setAppName(\"Kmeans\")\n",
    "sc\n",
    "sql=SQLContext(sc)"
   ]
  },
  {
   "cell_type": "code",
   "execution_count": 2,
   "metadata": {
    "collapsed": true
   },
   "outputs": [],
   "source": [
    "# Reading data\n",
    "lines=sc.textFile(\"xAPI-Edu-Data.csv\")"
   ]
  },
  {
   "cell_type": "code",
   "execution_count": 3,
   "metadata": {},
   "outputs": [
    {
     "data": {
      "text/plain": [
       "[u'M,KW,KuwaIT,lowerlevel,G-04,A,IT,F,Father,15,16,2,20,Yes,Good,Under-7,M',\n",
       " u'M,KW,KuwaIT,lowerlevel,G-04,A,IT,F,Father,20,20,3,25,Yes,Good,Under-7,M',\n",
       " u'M,KW,KuwaIT,lowerlevel,G-04,A,IT,F,Father,10,7,0,30,No,Bad,Above-7,L',\n",
       " u'M,KW,KuwaIT,lowerlevel,G-04,A,IT,F,Father,30,25,5,35,No,Bad,Above-7,L',\n",
       " u'M,KW,KuwaIT,lowerlevel,G-04,A,IT,F,Father,40,50,12,50,No,Bad,Above-7,M']"
      ]
     },
     "execution_count": 3,
     "metadata": {},
     "output_type": "execute_result"
    }
   ],
   "source": [
    "# Removing Header\n",
    "header=lines.first()\n",
    "lines=lines.filter(lambda line:line !=header)\n",
    "lines.take(5)"
   ]
  },
  {
   "cell_type": "code",
   "execution_count": 7,
   "metadata": {},
   "outputs": [
    {
     "data": {
      "text/plain": [
       "[Row(BithPlace='KuwaIT', Class='M', Nationality='KW', Topic='IT', absent='Under-7', announcements=2, discussion=20, gender='M', gradeid='G-04', raisehands=15, relation='Father', satisfaction='Good', sectionid='A', semester='F', stageid='lowerlevel', survey='Yes', visited=16),\n",
       " Row(BithPlace='KuwaIT', Class='M', Nationality='KW', Topic='IT', absent='Under-7', announcements=3, discussion=25, gender='M', gradeid='G-04', raisehands=20, relation='Father', satisfaction='Good', sectionid='A', semester='F', stageid='lowerlevel', survey='Yes', visited=20),\n",
       " Row(BithPlace='KuwaIT', Class='L', Nationality='KW', Topic='IT', absent='Above-7', announcements=0, discussion=30, gender='M', gradeid='G-04', raisehands=10, relation='Father', satisfaction='Bad', sectionid='A', semester='F', stageid='lowerlevel', survey='No', visited=7),\n",
       " Row(BithPlace='KuwaIT', Class='L', Nationality='KW', Topic='IT', absent='Above-7', announcements=5, discussion=35, gender='M', gradeid='G-04', raisehands=30, relation='Father', satisfaction='Bad', sectionid='A', semester='F', stageid='lowerlevel', survey='No', visited=25),\n",
       " Row(BithPlace='KuwaIT', Class='M', Nationality='KW', Topic='IT', absent='Above-7', announcements=12, discussion=50, gender='M', gradeid='G-04', raisehands=40, relation='Father', satisfaction='Bad', sectionid='A', semester='F', stageid='lowerlevel', survey='No', visited=50)]"
      ]
     },
     "execution_count": 7,
     "metadata": {},
     "output_type": "execute_result"
    }
   ],
   "source": [
    "# Reading data by mapping to parseline function\n",
    "data=lines.map(parseline)\n",
    "data.take(5)"
   ]
  },
  {
   "cell_type": "code",
   "execution_count": 6,
   "metadata": {
    "collapsed": true
   },
   "outputs": [],
   "source": [
    "#Function to read data in a CSV file\n",
    "def parseline(line):\n",
    "    field=line.split(',')\n",
    "    return Row(gender=str(field[0]),\n",
    "               Nationality=str(field[1]),\n",
    "               BithPlace=str(field[2]),\n",
    "               stageid=str(field[3]),\n",
    "               gradeid=str(field[4]),\n",
    "               sectionid=str(field[5]),\n",
    "               Topic=str(field[6]),\n",
    "              semester=str(field[7]),\n",
    "               relation=str(field[8]),\n",
    "               raisehands=int(field[9]),\n",
    "               visited=int(field[10]),\n",
    "               announcements=int(field[11]),\n",
    "               discussion=int(field[12]),\n",
    "               survey=str(field[13]),\n",
    "               satisfaction=str(field[14]),\n",
    "               absent=str(field[15].encode(\"utf-8\")),\n",
    "               Class=str(field[16])\n",
    "               )\n",
    "      "
   ]
  },
  {
   "cell_type": "code",
   "execution_count": 14,
   "metadata": {
    "collapsed": true
   },
   "outputs": [],
   "source": [
    "features = lines.map(lambda line: array([x for x in line.split(',')]))"
   ]
  },
  {
   "cell_type": "code",
   "execution_count": 15,
   "metadata": {},
   "outputs": [],
   "source": [
    "params_only =  features.map(lambda x : array([int(x[9]),\n",
    "                                                 int(x[10]),int(x[11]),int(x[12])]))"
   ]
  },
  {
   "cell_type": "code",
   "execution_count": 16,
   "metadata": {},
   "outputs": [
    {
     "data": {
      "text/plain": [
       "PythonRDD[12] at RDD at PythonRDD.scala:43"
      ]
     },
     "execution_count": 16,
     "metadata": {},
     "output_type": "execute_result"
    }
   ],
   "source": [
    "params_only"
   ]
  },
  {
   "cell_type": "code",
   "execution_count": 17,
   "metadata": {},
   "outputs": [
    {
     "data": {
      "text/plain": [
       "[array([15, 16,  2, 20]),\n",
       " array([20, 20,  3, 25]),\n",
       " array([10,  7,  0, 30]),\n",
       " array([30, 25,  5, 35]),\n",
       " array([40, 50, 12, 50])]"
      ]
     },
     "execution_count": 17,
     "metadata": {},
     "output_type": "execute_result"
    }
   ],
   "source": [
    "params_only.take(5)"
   ]
  },
  {
   "cell_type": "code",
   "execution_count": 46,
   "metadata": {},
   "outputs": [
    {
     "name": "stdout",
     "output_type": "stream",
     "text": [
      "<pyspark.mllib.clustering.KMeansModel object at 0x7fb8cf0f5090>\n",
      "1clusters\n",
      "<pyspark.mllib.clustering.KMeansModel object at 0x7fb8cf0f5d50>\n",
      "2clusters\n",
      "<pyspark.mllib.clustering.KMeansModel object at 0x7fb8cf110590>\n",
      "3clusters\n",
      "<pyspark.mllib.clustering.KMeansModel object at 0x7fb8cf110d90>\n",
      "4clusters\n"
     ]
    }
   ],
   "source": [
    "for i in range(1,5):\n",
    "    clusters = KMeans.train(params_only,i,maxIterations=100,runs=100,initializationMode=\"random\")\n",
    "    print(clusters)\n",
    "    print (str(i)+ \"clusters\")"
   ]
  },
  {
   "cell_type": "code",
   "execution_count": 48,
   "metadata": {},
   "outputs": [
    {
     "name": "stdout",
     "output_type": "stream",
     "text": [
      "(' Cluster centers are ', [array([ 76.4609375,  80.8984375,  66.484375 ,  73.625    ]), array([ 25.83783784,  31.78378378,  25.36486486,  64.74324324]), array([ 58.05263158,  77.70394737,  39.32894737,  25.49342105]), array([ 15.30952381,  14.16666667,  14.57142857,  21.31746032])])\n"
     ]
    }
   ],
   "source": [
    "centroids=clusters.clusterCenters\n",
    "print(\" Cluster centers are \" ,centroids)"
   ]
  },
  {
   "cell_type": "code",
   "execution_count": null,
   "metadata": {
    "collapsed": true
   },
   "outputs": [],
   "source": [
    "# from the results it is clear that  average no of raisedhands is 76.4 for a good student and 15.3 for poor student\n",
    "#   average no of visitedResources is 76 for a good student and 15.3 for bad student\n",
    "#   average no of Announcement Views is 66 for a good student and 15.3 for bad student\n",
    "#   average no of Discussions is 73.625 for a good student and 21.31 for bad student"
   ]
  }
 ],
 "metadata": {
  "kernelspec": {
   "display_name": "Python 3",
   "language": "python",
   "name": "python3"
  },
  "language_info": {
   "codemirror_mode": {
    "name": "ipython",
    "version": 3
   },
   "file_extension": ".py",
   "mimetype": "text/x-python",
   "name": "python",
   "nbconvert_exporter": "python",
   "pygments_lexer": "ipython3",
   "version": "3.6.5"
  }
 },
 "nbformat": 4,
 "nbformat_minor": 2
}
